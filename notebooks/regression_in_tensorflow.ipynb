{
  "cells": [
    {
      "cell_type": "markdown",
      "metadata": {
        "id": "XVU0sH7029b_"
      },
      "source": [
        "# Regression Example in TensorFlow\n",
        "Predicting house prices in Boston, Massachusetts "
      ]
    },
    {
      "cell_type": "markdown",
      "metadata": {
        "id": "oQzZIkMN29cB"
      },
      "source": [
        "[![Open In Colab](https://colab.research.google.com/assets/colab-badge.svg)](https://colab.research.google.com/github/jonkrohn/DLTFpT/blob/master/notebooks/regression_in_tensorflow.ipynb)"
      ]
    },
    {
      "cell_type": "markdown",
      "metadata": {
        "id": "fsoBGUNt29cB"
      },
      "source": [
        "#### Load dependencies"
      ]
    },
    {
      "cell_type": "code",
      "execution_count": 1,
      "metadata": {
        "id": "OmWJB2Ix29cB"
      },
      "outputs": [],
      "source": [
        "import numpy as np\n",
        "from tensorflow.keras.datasets import boston_housing\n",
        "from tensorflow.keras.models import Sequential\n",
        "from tensorflow.keras.layers import Dense, Dropout \n",
        "from tensorflow.keras.layers import BatchNormalization \n",
        "from tensorflow.keras.callbacks import ModelCheckpoint\n",
        "import os"
      ]
    },
    {
      "cell_type": "markdown",
      "metadata": {
        "id": "FB3rHttA29cC"
      },
      "source": [
        "#### Load data"
      ]
    },
    {
      "cell_type": "code",
      "execution_count": 2,
      "metadata": {
        "id": "6NaoAsSQ29cC",
        "outputId": "4651dd47-a080-499c-acb4-e9854b7dcb71",
        "colab": {
          "base_uri": "https://localhost:8080/"
        }
      },
      "outputs": [
        {
          "output_type": "stream",
          "name": "stdout",
          "text": [
            "Downloading data from https://storage.googleapis.com/tensorflow/tf-keras-datasets/boston_housing.npz\n",
            "57026/57026 [==============================] - 0s 0us/step\n"
          ]
        }
      ],
      "source": [
        "(X_train, y_train), (X_valid, y_valid) = boston_housing.load_data()"
      ]
    },
    {
      "cell_type": "code",
      "execution_count": null,
      "metadata": {
        "id": "8rGkk1MX29cC",
        "outputId": "ec8e7df6-2008-4539-9493-eb630d28fd53"
      },
      "outputs": [
        {
          "data": {
            "text/plain": [
              "(404, 13)"
            ]
          },
          "execution_count": 3,
          "metadata": {},
          "output_type": "execute_result"
        }
      ],
      "source": [
        "X_train.shape"
      ]
    },
    {
      "cell_type": "code",
      "execution_count": null,
      "metadata": {
        "id": "0g6XEwha29cD",
        "outputId": "8f71d988-90aa-4bbe-833d-20e98e6befaf"
      },
      "outputs": [
        {
          "data": {
            "text/plain": [
              "(102, 13)"
            ]
          },
          "execution_count": 4,
          "metadata": {},
          "output_type": "execute_result"
        }
      ],
      "source": [
        "X_valid.shape"
      ]
    },
    {
      "cell_type": "code",
      "execution_count": null,
      "metadata": {
        "id": "tEd3j-Fk29cD",
        "outputId": "54f7f008-3964-47cc-c294-70f6fd178c48"
      },
      "outputs": [
        {
          "data": {
            "text/plain": [
              "array([  1.23247,   0.     ,   8.14   ,   0.     ,   0.538  ,   6.142  ,\n",
              "        91.7    ,   3.9769 ,   4.     , 307.     ,  21.     , 396.9    ,\n",
              "        18.72   ])"
            ]
          },
          "execution_count": 5,
          "metadata": {},
          "output_type": "execute_result"
        }
      ],
      "source": [
        "X_train[0]"
      ]
    },
    {
      "cell_type": "code",
      "execution_count": null,
      "metadata": {
        "id": "dAJhtzNk29cD",
        "outputId": "362c7099-ddfe-42db-f2fd-1eb3f82a0fa0"
      },
      "outputs": [
        {
          "data": {
            "text/plain": [
              "15.2"
            ]
          },
          "execution_count": 6,
          "metadata": {},
          "output_type": "execute_result"
        }
      ],
      "source": [
        "y_train[0]"
      ]
    },
    {
      "cell_type": "markdown",
      "metadata": {
        "id": "QvWvdzux29cE"
      },
      "source": [
        "#### Design neural network architecture"
      ]
    },
    {
      "cell_type": "code",
      "execution_count": null,
      "metadata": {
        "id": "aVyXDYeO29cE"
      },
      "outputs": [],
      "source": [
        "model = Sequential()\n",
        "\n",
        "model.add(Dense(32, input_dim=13, activation='relu'))\n",
        "model.add(BatchNormalization())\n",
        "\n",
        "model.add(Dense(16, activation='relu'))\n",
        "model.add(BatchNormalization())\n",
        "model.add(Dropout(0.2))\n",
        "\n",
        "model.add(Dense(1, activation='linear'))"
      ]
    },
    {
      "cell_type": "code",
      "execution_count": null,
      "metadata": {
        "id": "hFaS19Dt29cE",
        "outputId": "d19f9fa8-f586-467f-c314-e2189dea7225"
      },
      "outputs": [
        {
          "name": "stdout",
          "output_type": "stream",
          "text": [
            "Model: \"sequential\"\n",
            "_________________________________________________________________\n",
            "Layer (type)                 Output Shape              Param #   \n",
            "=================================================================\n",
            "dense (Dense)                (None, 32)                448       \n",
            "_________________________________________________________________\n",
            "batch_normalization (BatchNo (None, 32)                128       \n",
            "_________________________________________________________________\n",
            "dense_1 (Dense)              (None, 16)                528       \n",
            "_________________________________________________________________\n",
            "batch_normalization_1 (Batch (None, 16)                64        \n",
            "_________________________________________________________________\n",
            "dropout (Dropout)            (None, 16)                0         \n",
            "_________________________________________________________________\n",
            "dense_2 (Dense)              (None, 1)                 17        \n",
            "=================================================================\n",
            "Total params: 1,185\n",
            "Trainable params: 1,089\n",
            "Non-trainable params: 96\n",
            "_________________________________________________________________\n"
          ]
        }
      ],
      "source": [
        "model.summary()"
      ]
    },
    {
      "cell_type": "markdown",
      "metadata": {
        "id": "14HQCsAP29cE"
      },
      "source": [
        "#### Configure Model"
      ]
    },
    {
      "cell_type": "code",
      "execution_count": null,
      "metadata": {
        "id": "R0wyVl5729cE"
      },
      "outputs": [],
      "source": [
        "model.compile(loss='mean_squared_error', optimizer='adam', )"
      ]
    },
    {
      "cell_type": "code",
      "execution_count": null,
      "metadata": {
        "id": "q3kum1tE29cE"
      },
      "outputs": [],
      "source": [
        "output_dir = 'model_output/'"
      ]
    },
    {
      "cell_type": "code",
      "execution_count": null,
      "metadata": {
        "id": "bPLQEbUo29cF"
      },
      "outputs": [],
      "source": [
        "run_name = 'regression_baseline'\n",
        "output_path = output_dir + run_name"
      ]
    },
    {
      "cell_type": "code",
      "execution_count": null,
      "metadata": {
        "id": "WDgl3-JV29cF"
      },
      "outputs": [],
      "source": [
        "if not os.path.exists(output_path):\n",
        "    os.makedirs(output_path)"
      ]
    },
    {
      "cell_type": "code",
      "execution_count": null,
      "metadata": {
        "id": "0hz_an7C29cF"
      },
      "outputs": [],
      "source": [
        "modelcheckpoint = ModelCheckpoint(output_path + '/weights.{epoch:02d}.hdf5', # decimal integers\n",
        "                                  save_weights_only=True) "
      ]
    },
    {
      "cell_type": "markdown",
      "metadata": {
        "id": "IOmi17aA29cF"
      },
      "source": [
        "#### Train!"
      ]
    },
    {
      "cell_type": "code",
      "execution_count": null,
      "metadata": {
        "id": "_Fqd58Ox29cF",
        "outputId": "ce0c3516-510b-4748-e534-10ea879bb65e"
      },
      "outputs": [
        {
          "name": "stdout",
          "output_type": "stream",
          "text": [
            "Train on 404 samples, validate on 102 samples\n",
            "Epoch 1/32\n",
            "404/404 [==============================] - 1s 1ms/sample - loss: 574.9674 - val_loss: 670.9787\n",
            "Epoch 2/32\n",
            "404/404 [==============================] - 0s 283us/sample - loss: 560.1075 - val_loss: 610.3649\n",
            "Epoch 3/32\n",
            "404/404 [==============================] - 0s 272us/sample - loss: 538.9081 - val_loss: 569.0831\n",
            "Epoch 4/32\n",
            "404/404 [==============================] - 0s 292us/sample - loss: 523.4382 - val_loss: 532.6724\n",
            "Epoch 5/32\n",
            "404/404 [==============================] - 0s 346us/sample - loss: 498.2580 - val_loss: 513.4582\n",
            "Epoch 6/32\n",
            "404/404 [==============================] - 0s 382us/sample - loss: 473.1501 - val_loss: 482.6169\n",
            "Epoch 7/32\n",
            "404/404 [==============================] - 0s 349us/sample - loss: 444.2933 - val_loss: 448.3360\n",
            "Epoch 8/32\n",
            "404/404 [==============================] - 0s 316us/sample - loss: 408.2028 - val_loss: 410.1629\n",
            "Epoch 9/32\n",
            "404/404 [==============================] - 0s 311us/sample - loss: 374.2431 - val_loss: 365.4785\n",
            "Epoch 10/32\n",
            "404/404 [==============================] - 0s 330us/sample - loss: 333.5626 - val_loss: 320.0330\n",
            "Epoch 11/32\n",
            "404/404 [==============================] - 0s 289us/sample - loss: 297.5275 - val_loss: 190.4927\n",
            "Epoch 12/32\n",
            "404/404 [==============================] - 0s 296us/sample - loss: 246.6466 - val_loss: 157.5952\n",
            "Epoch 13/32\n",
            "404/404 [==============================] - 0s 335us/sample - loss: 210.3841 - val_loss: 130.2611\n",
            "Epoch 14/32\n",
            "404/404 [==============================] - 0s 355us/sample - loss: 162.7810 - val_loss: 117.6108\n",
            "Epoch 15/32\n",
            "404/404 [==============================] - 0s 327us/sample - loss: 144.0858 - val_loss: 127.0299\n",
            "Epoch 16/32\n",
            "404/404 [==============================] - 0s 303us/sample - loss: 117.4293 - val_loss: 140.5821\n",
            "Epoch 17/32\n",
            "404/404 [==============================] - 0s 335us/sample - loss: 93.0745 - val_loss: 83.5203\n",
            "Epoch 18/32\n",
            "404/404 [==============================] - 0s 360us/sample - loss: 81.5223 - val_loss: 131.9906\n",
            "Epoch 19/32\n",
            "404/404 [==============================] - 0s 341us/sample - loss: 64.4891 - val_loss: 100.1118\n",
            "Epoch 20/32\n",
            "404/404 [==============================] - 0s 353us/sample - loss: 67.9189 - val_loss: 30.7400\n",
            "Epoch 21/32\n",
            "404/404 [==============================] - 0s 345us/sample - loss: 51.6477 - val_loss: 52.7694\n",
            "Epoch 22/32\n",
            "404/404 [==============================] - 0s 339us/sample - loss: 44.2351 - val_loss: 61.1162\n",
            "Epoch 23/32\n",
            "404/404 [==============================] - 0s 310us/sample - loss: 41.8487 - val_loss: 88.2196\n",
            "Epoch 24/32\n",
            "404/404 [==============================] - 0s 346us/sample - loss: 44.3643 - val_loss: 135.8369\n",
            "Epoch 25/32\n",
            "404/404 [==============================] - 0s 321us/sample - loss: 43.7426 - val_loss: 211.8463\n",
            "Epoch 26/32\n",
            "404/404 [==============================] - 0s 269us/sample - loss: 46.4661 - val_loss: 224.9724\n",
            "Epoch 27/32\n",
            "404/404 [==============================] - 0s 213us/sample - loss: 48.3020 - val_loss: 216.6456\n",
            "Epoch 28/32\n",
            "404/404 [==============================] - 0s 206us/sample - loss: 49.9810 - val_loss: 249.0779\n",
            "Epoch 29/32\n",
            "404/404 [==============================] - 0s 216us/sample - loss: 45.7349 - val_loss: 275.3312\n",
            "Epoch 30/32\n",
            "404/404 [==============================] - 0s 242us/sample - loss: 38.8271 - val_loss: 327.9285\n",
            "Epoch 31/32\n",
            "404/404 [==============================] - 0s 224us/sample - loss: 40.5370 - val_loss: 393.2647\n",
            "Epoch 32/32\n",
            "404/404 [==============================] - 0s 205us/sample - loss: 44.4624 - val_loss: 475.7846\n"
          ]
        },
        {
          "data": {
            "text/plain": [
              "<tensorflow.python.keras.callbacks.History at 0x7f0217d09c50>"
            ]
          },
          "execution_count": 14,
          "metadata": {},
          "output_type": "execute_result"
        }
      ],
      "source": [
        "model.fit(X_train, y_train, \n",
        "          batch_size=8, epochs=32, verbose=1, \n",
        "          validation_data=(X_valid, y_valid),\n",
        "          callbacks=[modelcheckpoint]) # val loss below 50 is good, 40 great"
      ]
    },
    {
      "cell_type": "markdown",
      "metadata": {
        "id": "qvLz9_ro29cF"
      },
      "source": [
        "#### Performing inference"
      ]
    },
    {
      "cell_type": "code",
      "execution_count": null,
      "metadata": {
        "id": "r0dmdmbw29cF"
      },
      "outputs": [],
      "source": [
        "model.load_weights(output_path + '/weights.20.hdf5')"
      ]
    },
    {
      "cell_type": "code",
      "execution_count": null,
      "metadata": {
        "id": "3DllRVxI29cG",
        "outputId": "2f00cde6-1393-4a36-89fb-ade1269acad5"
      },
      "outputs": [
        {
          "data": {
            "text/plain": [
              "array([  9.32909,   0.     ,  18.1    ,   0.     ,   0.713  ,   6.185  ,\n",
              "        98.7    ,   2.2616 ,  24.     , 666.     ,  20.2    , 396.9    ,\n",
              "        18.13   ])"
            ]
          },
          "execution_count": 17,
          "metadata": {},
          "output_type": "execute_result"
        }
      ],
      "source": [
        "X_valid[42]"
      ]
    },
    {
      "cell_type": "code",
      "execution_count": null,
      "metadata": {
        "id": "827PE4JZ29cG",
        "outputId": "c39d3065-05aa-4b7c-993f-942af5427cfb"
      },
      "outputs": [
        {
          "data": {
            "text/plain": [
              "14.1"
            ]
          },
          "execution_count": 18,
          "metadata": {},
          "output_type": "execute_result"
        }
      ],
      "source": [
        "y_valid[42]"
      ]
    },
    {
      "cell_type": "code",
      "execution_count": null,
      "metadata": {
        "id": "h7pMSs4F29cG",
        "outputId": "066ffc5d-d006-41b8-ae42-1ac37afd64a0"
      },
      "outputs": [
        {
          "data": {
            "text/plain": [
              "array([[15.265093]], dtype=float32)"
            ]
          },
          "execution_count": 19,
          "metadata": {},
          "output_type": "execute_result"
        }
      ],
      "source": [
        "model.predict(np.reshape(X_valid[42], [1, 13]))"
      ]
    },
    {
      "cell_type": "code",
      "execution_count": null,
      "metadata": {
        "id": "RD2-eI3229cG"
      },
      "outputs": [],
      "source": []
    }
  ],
  "metadata": {
    "kernelspec": {
      "display_name": "Python 3",
      "language": "python",
      "name": "python3"
    },
    "language_info": {
      "codemirror_mode": {
        "name": "ipython",
        "version": 3
      },
      "file_extension": ".py",
      "mimetype": "text/x-python",
      "name": "python",
      "nbconvert_exporter": "python",
      "pygments_lexer": "ipython3",
      "version": "3.7.3"
    },
    "colab": {
      "provenance": []
    }
  },
  "nbformat": 4,
  "nbformat_minor": 0
}